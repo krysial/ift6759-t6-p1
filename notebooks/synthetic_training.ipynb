{
  "nbformat": 4,
  "nbformat_minor": 0,
  "metadata": {
    "colab": {
      "name": "synthetic_training.ipynb",
      "provenance": [],
      "authorship_tag": "ABX9TyP0GnaD4Gl9Xxw1QNYdbxxw",
      "include_colab_link": true
    },
    "kernelspec": {
      "name": "python3",
      "display_name": "Python 3"
    }
  },
  "cells": [
    {
      "cell_type": "markdown",
      "metadata": {
        "id": "view-in-github",
        "colab_type": "text"
      },
      "source": [
        "<a href=\"https://colab.research.google.com/github/krysial/ift6759-t6-p1/blob/improve_lrcn/synthetic_training.ipynb\" target=\"_parent\"><img src=\"https://colab.research.google.com/assets/colab-badge.svg\" alt=\"Open In Colab\"/></a>"
      ]
    },
    {
      "cell_type": "code",
      "metadata": {
        "id": "yWUYgHsi3liW",
        "colab_type": "code",
        "colab": {}
      },
      "source": [
        ""
      ],
      "execution_count": 0,
      "outputs": []
    },
    {
      "cell_type": "markdown",
      "metadata": {
        "id": "n4CwWTWI3xMT",
        "colab_type": "text"
      },
      "source": [
        "# New Section"
      ]
    }
  ]
}